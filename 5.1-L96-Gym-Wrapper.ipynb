{
 "cells": [
  {
   "cell_type": "code",
   "execution_count": 35,
   "metadata": {},
   "outputs": [],
   "source": [
    "from L96 import *\n",
    "from EnKF import *\n",
    "from utils import *\n",
    "from parameterizations import *\n",
    "import gym"
   ]
  },
  {
   "cell_type": "code",
   "execution_count": 7,
   "metadata": {},
   "outputs": [],
   "source": [
    "initX, initY = np.load('./data/initX.npy'), np.load('./data/initY.npy')"
   ]
  },
  {
   "cell_type": "code",
   "execution_count": 9,
   "metadata": {},
   "outputs": [
    {
     "data": {
      "application/vnd.jupyter.widget-view+json": {
       "model_id": "2ae6eeefa75345308d0828c6a0ced58d",
       "version_major": 2,
       "version_minor": 0
      },
      "text/plain": [
       "HBox(children=(IntProgress(value=0, max=1000), HTML(value='')))"
      ]
     },
     "metadata": {},
     "output_type": "display_data"
    },
    {
     "name": "stdout",
     "output_type": "stream",
     "text": [
      "\n"
     ]
    }
   ],
   "source": [
    "l96_tru = L96TwoLevel(X_init=initX, Y_init=initY)\n",
    "l96_tru.iterate(1)"
   ]
  },
  {
   "cell_type": "code",
   "execution_count": 11,
   "metadata": {},
   "outputs": [],
   "source": [
    "X_tru = l96_tru.X.copy()"
   ]
  },
  {
   "cell_type": "code",
   "execution_count": 52,
   "metadata": {},
   "outputs": [],
   "source": [
    "class L96TwoLevelRL(L96TwoLevel):\n",
    "    def __init__(self, **kwargs):\n",
    "        super().__init__(**kwargs)\n",
    "        \n",
    "    def step_with_B(self, B):\n",
    "\n",
    "        k1_X = self._rhs_X_dt(self.X, B=0)\n",
    "        k2_X = self._rhs_X_dt(self.X + k1_X / 2, B=0)\n",
    "        k3_X = self._rhs_X_dt(self.X + k2_X / 2, B=0)\n",
    "        k4_X = self._rhs_X_dt(self.X + k3_X, B=0)\n",
    "\n",
    "        self.X += 1 / 6 * (k1_X + 2 * k2_X + 2 * k3_X + k4_X)\n",
    "        \n",
    "        self.X += B * self.dt\n",
    "\n",
    "        self.step_count += 1\n",
    "        if self.step_count % self.save_steps == 0:\n",
    "            Y_mean = self.Y.reshape(self.K, self.J).mean(1)\n",
    "            Y2_mean = (self.Y.reshape(self.K, self.J)**2).mean(1)\n",
    "            self._history_X.append(self.X.copy())\n",
    "            self._history_Y_mean.append(Y_mean.copy())\n",
    "            self._history_Y2_mean.append(Y2_mean.copy())\n",
    "            self._history_B.append(B.copy())\n",
    "            if not self.noYhist:\n",
    "                self._history_Y.append(self.Y.copy())"
   ]
  },
  {
   "cell_type": "code",
   "execution_count": 58,
   "metadata": {},
   "outputs": [],
   "source": [
    "class L96Gym(gym.Env):\n",
    "    def __init__(self, lead_time, X_init, Y_init, dt=0.01, action_bounds=(-20,20)):\n",
    "        self.lead_time = lead_time\n",
    "        self.X_init, self.Y_init = X_init, Y_init\n",
    "        self.step_count = 0\n",
    "        self.dt = dt\n",
    "        self.nsteps = self.lead_time // self.dt\n",
    "        \n",
    "        self.l96_tru = L96TwoLevel(X_init=initX, Y_init=initY)\n",
    "        self.l96_tru.iterate(lead_time)\n",
    "        self.fc_target = self.l96_tru.X.copy()\n",
    "        \n",
    "        self.action_space = gym.spaces.Box(\n",
    "            low=np.array([action_bounds[0]]), \n",
    "            high=np.array([action_bounds[1]])\n",
    "        )\n",
    "        self.observation_space = gym.spaces.Box(-np.array([np.inf]), np.array([np.inf]))\n",
    "        \n",
    "    \n",
    "    def reset(self):\n",
    "        self.l96 = L96TwoLevelRL(noYhist=True, X_init=initX, dt=self.dt)\n",
    "        state = self.l96.X\n",
    "        return state[:, None]\n",
    "    \n",
    "    def step(self, action):\n",
    "        self.l96.step_with_B(action)\n",
    "        state = self.l96.X\n",
    "        self.step_count += 1\n",
    "        if self.step_count >= self.nsteps:\n",
    "            done = True\n",
    "            reward = -((state - self.fc_target)**2).mean()\n",
    "        else:\n",
    "            done = False\n",
    "            reward = 0\n",
    "        return state[:, None], reward, done, None"
   ]
  },
  {
   "cell_type": "code",
   "execution_count": 59,
   "metadata": {},
   "outputs": [
    {
     "data": {
      "application/vnd.jupyter.widget-view+json": {
       "model_id": "50dcd65ea28244559e4b9840bd1a86e6",
       "version_major": 2,
       "version_minor": 0
      },
      "text/plain": [
       "HBox(children=(IntProgress(value=0, max=1000), HTML(value='')))"
      ]
     },
     "metadata": {},
     "output_type": "display_data"
    },
    {
     "name": "stdout",
     "output_type": "stream",
     "text": [
      "\n"
     ]
    },
    {
     "data": {
      "text/plain": [
       "array([ 7.22218496,  2.99854488,  1.42502222,  3.22644313,  3.42971768,\n",
       "       -2.85367383,  5.61076055,  6.09349954,  2.29462152,  4.53825525,\n",
       "        6.2793666 ,  0.91918918, -5.64401153,  1.45303851,  8.56648317,\n",
       "        3.90647132,  0.84966233, -2.14808322, -1.81945225,  4.21658127,\n",
       "        5.85408652,  1.78285521, -1.21044663, -0.97350462,  5.30371467,\n",
       "        4.31567286,  3.71369269,  2.24476462, -1.04748423, -2.42960882,\n",
       "        6.78435451,  5.16713111,  3.79624924,  1.52825985, -1.75016476,\n",
       "       -2.58994597])"
      ]
     },
     "execution_count": 59,
     "metadata": {},
     "output_type": "execute_result"
    }
   ],
   "source": [
    "env = L96Gym(1, initX, initY)\n",
    "env.reset()"
   ]
  },
  {
   "cell_type": "code",
   "execution_count": 60,
   "metadata": {},
   "outputs": [
    {
     "data": {
      "text/plain": [
       "(Box(1,), Box(1,))"
      ]
     },
     "execution_count": 60,
     "metadata": {},
     "output_type": "execute_result"
    }
   ],
   "source": [
    "env.action_space, env.observation_space"
   ]
  },
  {
   "cell_type": "code",
   "execution_count": 61,
   "metadata": {},
   "outputs": [],
   "source": [
    "done = False\n",
    "while not done:\n",
    "    state, reward, done,_ = env.step(np.zeros(X_tru.shape))"
   ]
  },
  {
   "cell_type": "code",
   "execution_count": 65,
   "metadata": {},
   "outputs": [
    {
     "data": {
      "text/plain": [
       "((36, 1), 2)"
      ]
     },
     "execution_count": 65,
     "metadata": {},
     "output_type": "execute_result"
    }
   ],
   "source": [
    "state.shape, state.ndim"
   ]
  },
  {
   "cell_type": "code",
   "execution_count": 34,
   "metadata": {},
   "outputs": [],
   "source": [
    "class ReplayBuffer:\n",
    "    def __init__(self, capacity):\n",
    "        self.buffer = deque(maxlen=capacity)\n",
    "    \n",
    "    def push(self, state, action, reward, next_state, done):\n",
    "        if len(state) == 1:\n",
    "            self.buffer.append([state, action, reward, next_state, done])\n",
    "        else:\n",
    "            for s, a, ns in zip(state, action, next_state):\n",
    "                self.buffer.append([s, a, reward, ns, done])\n",
    "    \n",
    "    def sample(self, batch_size):\n",
    "        batch = random.sample(self.buffer, batch_size)\n",
    "        state, action, reward, next_state, done = map(np.stack, zip(*batch))\n",
    "        return state, action, reward, next_state, done\n",
    "    \n",
    "    def __len__(self):\n",
    "        return len(self.buffer)"
   ]
  },
  {
   "cell_type": "code",
   "execution_count": null,
   "metadata": {},
   "outputs": [],
   "source": []
  }
 ],
 "metadata": {
  "kernelspec": {
   "display_name": "Python 3",
   "language": "python",
   "name": "python3"
  },
  "language_info": {
   "codemirror_mode": {
    "name": "ipython",
    "version": 3
   },
   "file_extension": ".py",
   "mimetype": "text/x-python",
   "name": "python",
   "nbconvert_exporter": "python",
   "pygments_lexer": "ipython3",
   "version": "3.7.3"
  },
  "toc": {
   "base_numbering": 1,
   "nav_menu": {},
   "number_sections": true,
   "sideBar": false,
   "skip_h1_title": true,
   "title_cell": "Table of Contents",
   "title_sidebar": "Contents",
   "toc_cell": false,
   "toc_position": {},
   "toc_section_display": true,
   "toc_window_display": false
  }
 },
 "nbformat": 4,
 "nbformat_minor": 2
}
